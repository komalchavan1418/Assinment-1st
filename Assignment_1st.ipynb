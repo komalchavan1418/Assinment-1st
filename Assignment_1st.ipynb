{
  "nbformat": 4,
  "nbformat_minor": 0,
  "metadata": {
    "colab": {
      "name": "Assignment 1st.ipynb",
      "provenance": [],
      "collapsed_sections": []
    },
    "kernelspec": {
      "name": "python3",
      "display_name": "Python 3"
    },
    "language_info": {
      "name": "python"
    }
  },
  "cells": [
    {
      "cell_type": "code",
      "metadata": {
        "colab": {
          "base_uri": "https://localhost:8080/"
        },
        "id": "3QCw5mo7wpG0",
        "outputId": "51d22f2e-94cf-4e54-8ff5-7106f0d444ce"
      },
      "source": [
        "name=\"komal\"\n",
        "print(name)"
      ],
      "execution_count": null,
      "outputs": [
        {
          "output_type": "stream",
          "text": [
            "komal\n"
          ],
          "name": "stdout"
        }
      ]
    },
    {
      "cell_type": "code",
      "metadata": {
        "colab": {
          "base_uri": "https://localhost:8080/"
        },
        "id": "CWgd5xsyL3z8",
        "outputId": "800afcd3-7981-473d-b6e5-224fe4ddbe06"
      },
      "source": [
        "age=21\n",
        "print(age)"
      ],
      "execution_count": null,
      "outputs": [
        {
          "output_type": "stream",
          "text": [
            "21\n"
          ],
          "name": "stdout"
        }
      ]
    },
    {
      "cell_type": "code",
      "metadata": {
        "colab": {
          "base_uri": "https://localhost:8080/"
        },
        "id": "OQzhJWNRye-B",
        "outputId": "096d784c-e1f3-4495-b94c-63a40f914dd2"
      },
      "source": [
        "if (\"has android phone\"):\n",
        " print(True)\n",
        "else:\n",
        " print(False)\n",
        "\n",
        " "
      ],
      "execution_count": null,
      "outputs": [
        {
          "output_type": "stream",
          "text": [
            "True\n"
          ],
          "name": "stdout"
        }
      ]
    },
    {
      "cell_type": "code",
      "metadata": {
        "colab": {
          "base_uri": "https://localhost:8080/"
        },
        "id": "daqiecNR4fU3",
        "outputId": "e043da48-bf3a-4869-e063-94a5e4f4590b"
      },
      "source": [
        "name=\"komal\"\n",
        "print(name)\n",
        "age=21\n",
        "print(age)\n",
        "if(\"has android phone\"):\n",
        "  print(True)\n",
        "else:\n",
        "  print(False) \n"
      ],
      "execution_count": null,
      "outputs": [
        {
          "output_type": "stream",
          "text": [
            "komal\n",
            "21\n",
            "True\n"
          ],
          "name": "stdout"
        }
      ]
    },
    {
      "cell_type": "code",
      "metadata": {
        "colab": {
          "base_uri": "https://localhost:8080/"
        },
        "id": "_SHH5hqfVScx",
        "outputId": "2ed8f8ab-fbf4-4539-e033-66f9f51a2f65"
      },
      "source": [
        "#working with List\n",
        "my_list=['violet',2,'yes']\n",
        "my_list"
      ],
      "execution_count": null,
      "outputs": [
        {
          "output_type": "execute_result",
          "data": {
            "text/plain": [
              "['violet', 2, 'yes']"
            ]
          },
          "metadata": {},
          "execution_count": 30
        }
      ]
    },
    {
      "cell_type": "code",
      "metadata": {
        "colab": {
          "base_uri": "https://localhost:8080/"
        },
        "id": "XRRXH8kvbqdx",
        "outputId": "a269a2ee-5ec5-4fb4-d7e3-08404f2223e6"
      },
      "source": [
        "print(\"my_fev_colour\",my_list[0])"
      ],
      "execution_count": null,
      "outputs": [
        {
          "output_type": "stream",
          "text": [
            "my_fev_colour violet\n"
          ],
          "name": "stdout"
        }
      ]
    },
    {
      "cell_type": "code",
      "metadata": {
        "colab": {
          "base_uri": "https://localhost:8080/"
        },
        "id": "rqDJPa5ObuYK",
        "outputId": "03daf4f1-4414-4d16-a1f0-f3b9e4383a21"
      },
      "source": [
        "print(\"I have {} pets.\".format(my_list[1]))"
      ],
      "execution_count": null,
      "outputs": [
        {
          "output_type": "stream",
          "text": [
            "I have 2 pets.\n"
          ],
          "name": "stdout"
        }
      ]
    },
    {
      "cell_type": "code",
      "metadata": {
        "id": "gdHj1kT2km9r"
      },
      "source": [
        "my_list.append(18)"
      ],
      "execution_count": null,
      "outputs": []
    },
    {
      "cell_type": "code",
      "metadata": {
        "colab": {
          "base_uri": "https://localhost:8080/"
        },
        "id": "h0Yh2bJDmaH0",
        "outputId": "79b9aa0c-48a4-4d52-896f-5c8bf2e7e39c"
      },
      "source": [
        "my_list"
      ],
      "execution_count": null,
      "outputs": [
        {
          "output_type": "execute_result",
          "data": {
            "text/plain": [
              "['violet', 2, 'yes', 18, '18']"
            ]
          },
          "metadata": {},
          "execution_count": 44
        }
      ]
    },
    {
      "cell_type": "code",
      "metadata": {
        "id": "CGzTmoUWnZKJ"
      },
      "source": [
        "my_list.remove('violet')"
      ],
      "execution_count": null,
      "outputs": []
    },
    {
      "cell_type": "code",
      "metadata": {
        "colab": {
          "base_uri": "https://localhost:8080/"
        },
        "id": "_JWwGOCjn60n",
        "outputId": "7ba15b9a-5355-4509-a8d4-e3a9d5510850"
      },
      "source": [
        "my_list"
      ],
      "execution_count": null,
      "outputs": [
        {
          "output_type": "execute_result",
          "data": {
            "text/plain": [
              "[2, 'yes', 18, '18']"
            ]
          },
          "metadata": {},
          "execution_count": 48
        }
      ]
    },
    {
      "cell_type": "code",
      "metadata": {
        "id": "4cTqSCawol6E"
      },
      "source": [
        "my_list=['violet',2,'yes',18]"
      ],
      "execution_count": null,
      "outputs": []
    },
    {
      "cell_type": "code",
      "metadata": {
        "colab": {
          "base_uri": "https://localhost:8080/"
        },
        "id": "sOaaOUMvAg19",
        "outputId": "12803056-576d-4527-e055-1cba96cc3da8"
      },
      "source": [
        "my_list"
      ],
      "execution_count": null,
      "outputs": [
        {
          "output_type": "execute_result",
          "data": {
            "text/plain": [
              "['violet', 2, 'yes', 18]"
            ]
          },
          "metadata": {},
          "execution_count": 3
        }
      ]
    },
    {
      "cell_type": "code",
      "metadata": {
        "colab": {
          "base_uri": "https://localhost:8080/"
        },
        "id": "EfF1TurpA6Pa",
        "outputId": "79931279-9290-4ddd-d8e1-ef63961ab345"
      },
      "source": [
        "print(\"the list has {} element.\".format(my_list))"
      ],
      "execution_count": null,
      "outputs": [
        {
          "output_type": "stream",
          "text": [
            "the list has ['violet', 2, 'yes', 18] element.\n"
          ],
          "name": "stdout"
        }
      ]
    },
    {
      "cell_type": "code",
      "metadata": {
        "colab": {
          "base_uri": "https://localhost:8080/"
        },
        "id": "XaEj1daiBLT0",
        "outputId": "43b9a764-d5b2-4242-c7e5-9ab55271e278"
      },
      "source": [
        "print(\"number of elements in the list:\",len(my_list))"
      ],
      "execution_count": null,
      "outputs": [
        {
          "output_type": "stream",
          "text": [
            "number of elements in the list: 4\n"
          ],
          "name": "stdout"
        }
      ]
    },
    {
      "cell_type": "code",
      "metadata": {
        "id": "madgNBCGC1zb"
      },
      "source": [
        "# Conditions & Loops\n",
        "sum_of_numbers = []\n",
        "for x in range(18,534):\n",
        "    if x%7==0:\n",
        "      sum_of_numbers.append(str(x))"
      ],
      "execution_count": null,
      "outputs": []
    },
    {
      "cell_type": "code",
      "metadata": {
        "colab": {
          "base_uri": "https://localhost:8080/"
        },
        "id": "KcRRMUvYEtRX",
        "outputId": "58b68574-c431-4888-a141-2ae3b86e299f"
      },
      "source": [
        "sum_of_numbers"
      ],
      "execution_count": null,
      "outputs": [
        {
          "output_type": "execute_result",
          "data": {
            "text/plain": [
              "['21',\n",
              " '28',\n",
              " '35',\n",
              " '42',\n",
              " '49',\n",
              " '56',\n",
              " '63',\n",
              " '70',\n",
              " '77',\n",
              " '84',\n",
              " '91',\n",
              " '98',\n",
              " '105',\n",
              " '112',\n",
              " '119',\n",
              " '126',\n",
              " '133',\n",
              " '140',\n",
              " '147',\n",
              " '154',\n",
              " '161',\n",
              " '168',\n",
              " '175',\n",
              " '182',\n",
              " '189',\n",
              " '196',\n",
              " '203',\n",
              " '210',\n",
              " '217',\n",
              " '224',\n",
              " '231',\n",
              " '238',\n",
              " '245',\n",
              " '252',\n",
              " '259',\n",
              " '266',\n",
              " '273',\n",
              " '280',\n",
              " '287',\n",
              " '294',\n",
              " '301',\n",
              " '308',\n",
              " '315',\n",
              " '322',\n",
              " '329',\n",
              " '336',\n",
              " '343',\n",
              " '350',\n",
              " '357',\n",
              " '364',\n",
              " '371',\n",
              " '378',\n",
              " '385',\n",
              " '392',\n",
              " '399',\n",
              " '406',\n",
              " '413',\n",
              " '420',\n",
              " '427',\n",
              " '434',\n",
              " '441',\n",
              " '448',\n",
              " '455',\n",
              " '462',\n",
              " '469',\n",
              " '476',\n",
              " '483',\n",
              " '490',\n",
              " '497',\n",
              " '504',\n",
              " '511',\n",
              " '518',\n",
              " '525',\n",
              " '532']"
            ]
          },
          "metadata": {},
          "execution_count": 17
        }
      ]
    },
    {
      "cell_type": "code",
      "metadata": {
        "id": "jL1YoozAHe_5"
      },
      "source": [
        "# flaying to Bahamas\n",
        "cost_of_flying_plane=5000\n",
        "number_of_persons_signed_for_trip=29\n",
        "company_charges_on_per_ticket=200\n",
        "profit=(number_of_persons_signed_for_trip*company_charges_on_per_ticket)-cost_of_flying_plane"
      ],
      "execution_count": null,
      "outputs": []
    },
    {
      "cell_type": "code",
      "metadata": {
        "colab": {
          "base_uri": "https://localhost:8080/"
        },
        "id": "FVwMbmnRN6Cf",
        "outputId": "8c3f8273-c719-42bf-e8f1-35249c2a7275"
      },
      "source": [
        "profit"
      ],
      "execution_count": null,
      "outputs": [
        {
          "output_type": "execute_result",
          "data": {
            "text/plain": [
              "800"
            ]
          },
          "metadata": {},
          "execution_count": 21
        }
      ]
    },
    {
      "cell_type": "code",
      "metadata": {
        "colab": {
          "base_uri": "https://localhost:8080/"
        },
        "id": "n4PhzTf6OWdL",
        "outputId": "db0cda7d-1f41-4b13-cebb-ccae44c5abca"
      },
      "source": [
        "print('the company makes of a profit of {} dollars'.format(profit))"
      ],
      "execution_count": null,
      "outputs": [
        {
          "output_type": "stream",
          "text": [
            "the company makes of a profit of 800 dollars\n"
          ],
          "name": "stdout"
        }
      ]
    },
    {
      "cell_type": "code",
      "metadata": {
        "id": "u0OHsUpPOsSq"
      },
      "source": [
        "cost_of_flying_plane=5000\n",
        "number_of_persons_signed_for_trip=12\n",
        "company_charges_on_per_ticket=200\n",
        "profit=(number_of_persons_signed_for_trip*company_charges_on_per_ticket)-cost_of_flying_plane\n",
        "loss=(profit*company_charges_on_per_ticket)-cost_of_flying_plane"
      ],
      "execution_count": null,
      "outputs": []
    },
    {
      "cell_type": "code",
      "metadata": {
        "colab": {
          "base_uri": "https://localhost:8080/"
        },
        "id": "rFbBDhhvRUma",
        "outputId": "20923498-063a-41e1-cc36-4b85a9c84048"
      },
      "source": [
        "profit"
      ],
      "execution_count": null,
      "outputs": [
        {
          "output_type": "execute_result",
          "data": {
            "text/plain": [
              "-2600"
            ]
          },
          "metadata": {},
          "execution_count": 34
        }
      ]
    },
    {
      "cell_type": "code",
      "metadata": {
        "colab": {
          "base_uri": "https://localhost:8080/"
        },
        "id": "z-I7GYJ1RWPy",
        "outputId": "9d72348b-30d5-4093-8008-9a0bb828edda"
      },
      "source": [
        "loss"
      ],
      "execution_count": null,
      "outputs": [
        {
          "output_type": "execute_result",
          "data": {
            "text/plain": [
              "-525000"
            ]
          },
          "metadata": {},
          "execution_count": 36
        }
      ]
    },
    {
      "cell_type": "code",
      "metadata": {
        "id": "vqJ8Fz4kSZhS"
      },
      "source": [
        "#twitter sentiment analysis\n",
        "tweets = [\n",
        "    \"Wow, what a great day today!! #sunshine\",\n",
        "    \"I feel sad about the things going on around us. #covid19\",\n",
        "    \"I'm really excited to learn Python with @JovianML #zerotopandas\",\n",
        "    \"This is a really nice song. #linkinpark\",\n",
        "    \"The python programming language is useful for data science\",\n",
        "    \"Why do bad things happen to me?\",\n",
        "    \"Apple announces the release of the new iPhone 12. Fans are excited.\",\n",
        "    \"Spent my day with family!! #happy\",\n",
        "    \"Check out my blog post on common string operations in Python. #zerotopandas\",\n",
        "    \"Freecodecamp has great coding tutorials. #skillup\"\n",
        "]\n",
        "number_of_tweets=len(tweets)"
      ],
      "execution_count": null,
      "outputs": []
    },
    {
      "cell_type": "code",
      "metadata": {
        "id": "iqFg-4J4rlab",
        "colab": {
          "base_uri": "https://localhost:8080/"
        },
        "outputId": "343fb6c1-cd3c-4308-dcf1-8906deec7128"
      },
      "source": [
        "number_of_tweets"
      ],
      "execution_count": null,
      "outputs": [
        {
          "output_type": "execute_result",
          "data": {
            "text/plain": [
              "10"
            ]
          },
          "metadata": {},
          "execution_count": 6
        }
      ]
    },
    {
      "cell_type": "code",
      "metadata": {
        "id": "LzUw9BZBrqQd"
      },
      "source": [
        "## QUE 13 creating a list of happy word and sad word\n",
        "happy_word=['great','excited','nice','happy']"
      ],
      "execution_count": null,
      "outputs": []
    },
    {
      "cell_type": "code",
      "metadata": {
        "colab": {
          "base_uri": "https://localhost:8080/"
        },
        "id": "B3GkLRWqnhel",
        "outputId": "bf39e2e9-4cb8-442e-8a51-ccc5db2a6e42"
      },
      "source": [
        "happy_word"
      ],
      "execution_count": null,
      "outputs": [
        {
          "output_type": "execute_result",
          "data": {
            "text/plain": [
              "['great', 'excited', 'nice', 'happy']"
            ]
          },
          "metadata": {},
          "execution_count": 8
        }
      ]
    },
    {
      "cell_type": "code",
      "metadata": {
        "id": "-UfO38efnj4X"
      },
      "source": [
        "sad_words=['sad','bad']"
      ],
      "execution_count": null,
      "outputs": []
    },
    {
      "cell_type": "code",
      "metadata": {
        "colab": {
          "base_uri": "https://localhost:8080/"
        },
        "id": "P9EM4kXCoBxV",
        "outputId": "1ecb589b-1e5b-45ce-da34-c49719984e1b"
      },
      "source": [
        "sad_words"
      ],
      "execution_count": null,
      "outputs": [
        {
          "output_type": "execute_result",
          "data": {
            "text/plain": [
              "['sad', 'bad']"
            ]
          },
          "metadata": {},
          "execution_count": 6
        }
      ]
    },
    {
      "cell_type": "code",
      "metadata": {
        "colab": {
          "base_uri": "https://localhost:8080/",
          "height": 35
        },
        "id": "LLQ-E-I-XKSw",
        "outputId": "4c6df513-b271-41c3-e0b0-df1aaf597d8c"
      },
      "source": [
        "sample_tweet = tweets[0]\n",
        "sample_tweet"
      ],
      "execution_count": null,
      "outputs": [
        {
          "output_type": "execute_result",
          "data": {
            "application/vnd.google.colaboratory.intrinsic+json": {
              "type": "string"
            },
            "text/plain": [
              "'Wow, what a great day today!! #sunshine'"
            ]
          },
          "metadata": {},
          "execution_count": 17
        }
      ]
    },
    {
      "cell_type": "code",
      "metadata": {
        "id": "WxNxhV27XbPo"
      },
      "source": [
        "## QUE 14 detremining tweet is happy or not\n",
        "is_tweet_happy = False\n",
        "for word in happy_word:\n",
        "    if word in sample_tweet:\n",
        "        is_tweet_happy = True"
      ],
      "execution_count": null,
      "outputs": []
    },
    {
      "cell_type": "code",
      "metadata": {
        "colab": {
          "base_uri": "https://localhost:8080/"
        },
        "id": "yVl1ttybX3a0",
        "outputId": "1f202598-7562-44bb-8d3e-16413e35a480"
      },
      "source": [
        "is_tweet_happy"
      ],
      "execution_count": null,
      "outputs": [
        {
          "output_type": "execute_result",
          "data": {
            "text/plain": [
              "True"
            ]
          },
          "metadata": {},
          "execution_count": 20
        }
      ]
    },
    {
      "cell_type": "code",
      "metadata": {
        "colab": {
          "base_uri": "https://localhost:8080/"
        },
        "id": "p79y0fVPYE6d",
        "outputId": "b1e28306-fcf9-4c5b-8a04-6f88328f4882"
      },
      "source": [
        "#QUE 15 determine number of happy tweets in data\n",
        "number_of_happy_tweets = 0\n",
        "for tweet in tweets:\n",
        "    for word in happy_word:\n",
        "        if word in tweet:\n",
        "            print('{} (is happy tweet)'.format(tweet))\n",
        "            number_of_happy_tweets+=1           "
      ],
      "execution_count": null,
      "outputs": [
        {
          "output_type": "stream",
          "text": [
            "Wow, what a great day today!! #sunshine (is happy tweet)\n",
            "I'm really excited to learn Python with @JovianML #zerotopandas (is happy tweet)\n",
            "This is a really nice song. #linkinpark (is happy tweet)\n",
            "Apple announces the release of the new iPhone 12. Fans are excited. (is happy tweet)\n",
            "Spent my day with family!! #happy (is happy tweet)\n",
            "Freecodecamp has great coding tutorials. #skillup (is happy tweet)\n"
          ],
          "name": "stdout"
        }
      ]
    },
    {
      "cell_type": "code",
      "metadata": {
        "colab": {
          "base_uri": "https://localhost:8080/"
        },
        "id": "NBD1jhixaiK5",
        "outputId": "20a35cc4-9297-4de0-acce-12379277dae8"
      },
      "source": [
        "print(\"Number of happy tweets:\", number_of_happy_tweets)"
      ],
      "execution_count": null,
      "outputs": [
        {
          "output_type": "stream",
          "text": [
            "Number of happy tweets: 6\n"
          ],
          "name": "stdout"
        }
      ]
    },
    {
      "cell_type": "code",
      "metadata": {
        "id": "dfb4czxGZbws"
      },
      "source": [
        "happy_fraction = number_of_happy_tweets/number_of_tweets"
      ],
      "execution_count": null,
      "outputs": []
    },
    {
      "cell_type": "code",
      "metadata": {
        "colab": {
          "base_uri": "https://localhost:8080/"
        },
        "id": "k_kr8D9ybEmS",
        "outputId": "c9bd4620-fde6-44e0-960c-630d3b23e4d2"
      },
      "source": [
        "happy_fraction"
      ],
      "execution_count": null,
      "outputs": [
        {
          "output_type": "execute_result",
          "data": {
            "text/plain": [
              "0.6"
            ]
          },
          "metadata": {},
          "execution_count": 29
        }
      ]
    },
    {
      "cell_type": "code",
      "metadata": {
        "id": "7ZZmtRJfcPo4"
      },
      "source": [
        "sad_words=['sad','bad']"
      ],
      "execution_count": null,
      "outputs": []
    },
    {
      "cell_type": "code",
      "metadata": {
        "colab": {
          "base_uri": "https://localhost:8080/"
        },
        "id": "j6wM7pX6cajZ",
        "outputId": "a16b4a8f-f764-4eb6-c3c1-61732e9dc9b0"
      },
      "source": [
        "sad_words"
      ],
      "execution_count": null,
      "outputs": [
        {
          "output_type": "execute_result",
          "data": {
            "text/plain": [
              "['sad', 'bad']"
            ]
          },
          "metadata": {},
          "execution_count": 34
        }
      ]
    },
    {
      "cell_type": "code",
      "metadata": {
        "id": "aoTqAB4_bi30"
      },
      "source": [
        "## QUE 16 determing number of sad tweets in data\n",
        "number_of_sad_tweets = 0\n",
        "for tweet in tweets:\n",
        "    for word in sad_words:\n",
        "        if word in tweet:\n",
        "            number_of_sad_tweets+=1"
      ],
      "execution_count": null,
      "outputs": []
    },
    {
      "cell_type": "code",
      "metadata": {
        "colab": {
          "base_uri": "https://localhost:8080/"
        },
        "id": "sQf27T5YcgbQ",
        "outputId": "73976298-45ba-4766-b8c2-59a42cdc092c"
      },
      "source": [
        "number_of_sad_tweets"
      ],
      "execution_count": null,
      "outputs": [
        {
          "output_type": "execute_result",
          "data": {
            "text/plain": [
              "2"
            ]
          },
          "metadata": {},
          "execution_count": 36
        }
      ]
    },
    {
      "cell_type": "code",
      "metadata": {
        "id": "nxlc1JQroEd2"
      },
      "source": [
        "sad_fraction = number_of_sad_tweets/number_of_tweets\n"
      ],
      "execution_count": null,
      "outputs": []
    },
    {
      "cell_type": "code",
      "metadata": {
        "colab": {
          "base_uri": "https://localhost:8080/"
        },
        "id": "_hL6_MVrXX2C",
        "outputId": "b4711f23-072b-4958-8cb8-92f7cd7b5df1"
      },
      "source": [
        "sad_fraction"
      ],
      "execution_count": null,
      "outputs": [
        {
          "output_type": "execute_result",
          "data": {
            "text/plain": [
              "0.2"
            ]
          },
          "metadata": {},
          "execution_count": 38
        }
      ]
    },
    {
      "cell_type": "code",
      "metadata": {
        "id": "P85EG-pRc_ad"
      },
      "source": [
        "##QUE 16 b sentiment score\n",
        "sentiment_score = happy_fraction-sad_fraction"
      ],
      "execution_count": null,
      "outputs": []
    },
    {
      "cell_type": "code",
      "metadata": {
        "colab": {
          "base_uri": "https://localhost:8080/"
        },
        "id": "dpJ1ImQidJEd",
        "outputId": "c09dd6ab-a7af-4115-ea6e-99df8d58de55"
      },
      "source": [
        "sentiment_score"
      ],
      "execution_count": null,
      "outputs": [
        {
          "output_type": "execute_result",
          "data": {
            "text/plain": [
              "0.39999999999999997"
            ]
          },
          "metadata": {},
          "execution_count": 40
        }
      ]
    },
    {
      "cell_type": "code",
      "metadata": {
        "colab": {
          "base_uri": "https://localhost:8080/"
        },
        "id": "mfodI1mRWxYW",
        "outputId": "b79af005-ad89-4db1-bc13-831e7de208d1"
      },
      "source": [
        "## QUE 16 c about overall tweets are happy or sad\n",
        "if sentiment_score>0:\n",
        "    print(\"The overall tweets is happy\")\n",
        "else:\n",
        "    print(\"The overall tweets is sad\")\n"
      ],
      "execution_count": null,
      "outputs": [
        {
          "output_type": "stream",
          "text": [
            "The overall tweets is happy\n"
          ],
          "name": "stdout"
        }
      ]
    },
    {
      "cell_type": "code",
      "metadata": {
        "colab": {
          "base_uri": "https://localhost:8080/"
        },
        "id": "cEkErzBqd3hj",
        "outputId": "a4650791-da45-412a-d266-4d15271330ae"
      },
      "source": [
        "## QUE 16 d determining the number of neutral tweets:\n",
        "neutral_tweets = 0\n",
        "neutral_tweets=number_of_tweets-(number_of_happy_tweets+number_of_sad_tweets)\n",
        "neutral_tweets"
      ],
      "execution_count": null,
      "outputs": [
        {
          "output_type": "execute_result",
          "data": {
            "text/plain": [
              "2"
            ]
          },
          "metadata": {},
          "execution_count": 42
        }
      ]
    },
    {
      "cell_type": "code",
      "metadata": {
        "colab": {
          "base_uri": "https://localhost:8080/"
        },
        "id": "jIbeA_OzeaMP",
        "outputId": "643438b6-5464-4629-a3fc-51ae5814c9cd"
      },
      "source": [
        "neutral_fraction=neutral_tweets/number_of_tweets\n",
        "neutral_fraction"
      ],
      "execution_count": null,
      "outputs": [
        {
          "output_type": "execute_result",
          "data": {
            "text/plain": [
              "0.2"
            ]
          },
          "metadata": {},
          "execution_count": 43
        }
      ]
    },
    {
      "cell_type": "code",
      "metadata": {
        "id": "Ay6U-NXFeizx"
      },
      "source": [
        ""
      ],
      "execution_count": null,
      "outputs": []
    }
  ]
}